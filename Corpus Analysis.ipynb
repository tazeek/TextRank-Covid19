{
 "cells": [
  {
   "cell_type": "code",
   "execution_count": 7,
   "metadata": {},
   "outputs": [],
   "source": [
    "import sys\n",
    "\n",
    "import pandas as pd\n",
    "import plotly.graph_objects as go"
   ]
  },
  {
   "cell_type": "code",
   "execution_count": 2,
   "metadata": {},
   "outputs": [
    {
     "name": "stdout",
     "output_type": "stream",
     "text": [
      "(843, 13)\n",
      "['Authors', 'Title', 'Year', 'Source title', 'Cited by', 'Affiliations', 'Authors with affiliations', 'Abstract', 'Author Keywords', 'Index Keywords', 'Document Type', 'Publication Stage', 'Access Type']\n",
      "2558639\n"
     ]
    }
   ],
   "source": [
    "FILE = 'folder/covid19_scopus.xlsx'\n",
    "\n",
    "covid_scopus_df = pd.read_excel(FILE)\n",
    "\n",
    "print(covid_scopus_df.shape)\n",
    "print(list(covid_scopus_df.columns))\n",
    "print(sys.getsizeof(covid_scopus_df))"
   ]
  },
  {
   "cell_type": "code",
   "execution_count": 3,
   "metadata": {},
   "outputs": [
    {
     "name": "stdout",
     "output_type": "stream",
     "text": [
      "('Authors', 'Zhang H.-W., Yu J., Xu H.-J., Lei Y., Pu Z.-H., Dai W.-C., Lin F., Wang Y.-L., Wu X.-L., Liu L.-H., Li M., Mo Y.-Q., Zhang H., Luo S.-P., Chen H., Lyu G.-W., Zhou Z.-G., Liu W.-M., Liu X.-L., Song H.-Y., Chen F.-Z., Zeng L., Zhong H., Guo T.-T., Hu Y.-Q., Yang X.-X., Liu P.-N., Li D.-F.')\n",
      "\n",
      "\n",
      "('Title', 'Corona Virus International Public Health Emergencies: Implications for Radiology Management')\n",
      "\n",
      "\n",
      "('Year', 2020)\n",
      "\n",
      "\n",
      "('Source title', 'Academic Radiology')\n",
      "\n",
      "\n",
      "('Cited by', nan)\n",
      "\n",
      "\n",
      "('Affiliations', \"Department of Radiology, The First Affiliated Hospital of Shenzhen University, Health Science Center, Shenzhen Second People's Hospital, 3002 SunGangXi Road, Shenzhen, 518035, China\")\n",
      "\n",
      "\n",
      "('Authors with affiliations', \"Zhang, H.-W., Department of Radiology, The First Affiliated Hospital of Shenzhen University, Health Science Center, Shenzhen Second People's Hospital, 3002 SunGangXi Road, Shenzhen, 518035, China; Yu, J., Department of Radiology, The First Affiliated Hospital of Shenzhen University, Health Science Center, Shenzhen Second People's Hospital, 3002 SunGangXi Road, Shenzhen, 518035, China; Xu, H.-J., Department of Radiology, The First Affiliated Hospital of Shenzhen University, Health Science Center, Shenzhen Second People's Hospital, 3002 SunGangXi Road, Shenzhen, 518035, China; Lei, Y., Department of Radiology, The First Affiliated Hospital of Shenzhen University, Health Science Center, Shenzhen Second People's Hospital, 3002 SunGangXi Road, Shenzhen, 518035, China; Pu, Z.-H., Department of Radiology, The First Affiliated Hospital of Shenzhen University, Health Science Center, Shenzhen Second People's Hospital, 3002 SunGangXi Road, Shenzhen, 518035, China; Dai, W.-C., Department of Radiology, The First Affiliated Hospital of Shenzhen University, Health Science Center, Shenzhen Second People's Hospital, 3002 SunGangXi Road, Shenzhen, 518035, China; Lin, F., Department of Radiology, The First Affiliated Hospital of Shenzhen University, Health Science Center, Shenzhen Second People's Hospital, 3002 SunGangXi Road, Shenzhen, 518035, China; Wang, Y.-L., Department of Radiology, The First Affiliated Hospital of Shenzhen University, Health Science Center, Shenzhen Second People's Hospital, 3002 SunGangXi Road, Shenzhen, 518035, China; Wu, X.-L., Department of Radiology, The First Affiliated Hospital of Shenzhen University, Health Science Center, Shenzhen Second People's Hospital, 3002 SunGangXi Road, Shenzhen, 518035, China; Liu, L.-H., Department of Radiology, The First Affiliated Hospital of Shenzhen University, Health Science Center, Shenzhen Second People's Hospital, 3002 SunGangXi Road, Shenzhen, 518035, China; Li, M., Department of Radiology, The First Affiliated Hospital of Shenzhen University, Health Science Center, Shenzhen Second People's Hospital, 3002 SunGangXi Road, Shenzhen, 518035, China; Mo, Y.-Q., Department of Radiology, The First Affiliated Hospital of Shenzhen University, Health Science Center, Shenzhen Second People's Hospital, 3002 SunGangXi Road, Shenzhen, 518035, China; Zhang, H., Department of Radiology, The First Affiliated Hospital of Shenzhen University, Health Science Center, Shenzhen Second People's Hospital, 3002 SunGangXi Road, Shenzhen, 518035, China; Luo, S.-P., Department of Radiology, The First Affiliated Hospital of Shenzhen University, Health Science Center, Shenzhen Second People's Hospital, 3002 SunGangXi Road, Shenzhen, 518035, China; Chen, H., Department of Radiology, The First Affiliated Hospital of Shenzhen University, Health Science Center, Shenzhen Second People's Hospital, 3002 SunGangXi Road, Shenzhen, 518035, China; Lyu, G.-W., Department of Radiology, The First Affiliated Hospital of Shenzhen University, Health Science Center, Shenzhen Second People's Hospital, 3002 SunGangXi Road, Shenzhen, 518035, China; Zhou, Z.-G., Department of Radiology, The First Affiliated Hospital of Shenzhen University, Health Science Center, Shenzhen Second People's Hospital, 3002 SunGangXi Road, Shenzhen, 518035, China; Liu, W.-M., Department of Radiology, The First Affiliated Hospital of Shenzhen University, Health Science Center, Shenzhen Second People's Hospital, 3002 SunGangXi Road, Shenzhen, 518035, China; Liu, X.-L., Department of Radiology, The First Affiliated Hospital of Shenzhen University, Health Science Center, Shenzhen Second People's Hospital, 3002 SunGangXi Road, Shenzhen, 518035, China; Song, H.-Y., Department of Radiology, The First Affiliated Hospital of Shenzhen University, Health Science Center, Shenzhen Second People's Hospital, 3002 SunGangXi Road, Shenzhen, 518035, China; Chen, F.-Z., Department of Radiology, The First Affiliated Hospital of Shenzhen University, Health Science Center, Shenzhen Second People's Hospital, 3002 SunGangXi Road, Shenzhen, 518035, China; Zeng, L., Department of Radiology, The First Affiliated Hospital of Shenzhen University, Health Science Center, Shenzhen Second People's Hospital, 3002 SunGangXi Road, Shenzhen, 518035, China; Zhong, H., Department of Radiology, The First Affiliated Hospital of Shenzhen University, Health Science Center, Shenzhen Second People's Hospital, 3002 SunGangXi Road, Shenzhen, 518035, China; Guo, T.-T., Department of Radiology, The First Affiliated Hospital of Shenzhen University, Health Science Center, Shenzhen Second People's Hospital, 3002 SunGangXi Road, Shenzhen, 518035, China; Hu, Y.-Q., Department of Radiology, The First Affiliated Hospital of Shenzhen University, Health Science Center, Shenzhen Second People's Hospital, 3002 SunGangXi Road, Shenzhen, 518035, China; Yang, X.-X., Department of Radiology, The First Affiliated Hospital of Shenzhen University, Health Science Center, Shenzhen Second People's Hospital, 3002 SunGangXi Road, Shenzhen, 518035, China; Liu, P.-N., Department of Radiology, The First Affiliated Hospital of Shenzhen University, Health Science Center, Shenzhen Second People's Hospital, 3002 SunGangXi Road, Shenzhen, 518035, China; Li, D.-F., Department of Radiology, The First Affiliated Hospital of Shenzhen University, Health Science Center, Shenzhen Second People's Hospital, 3002 SunGangXi Road, Shenzhen, 518035, China\")\n",
      "\n",
      "\n",
      "('Abstract', 'The outbreak of 2019 novel coronavirus (2019-nCoV) pneumonia was reported in Wuhan, Hubei Province, China in December 2019 and has spread internationally. This article discusses how radiology departments can most effectively respond to this public health emergency. © 2020 The Association of University Radiologists')\n",
      "\n",
      "\n",
      "('Author Keywords', '2019-nCoV; COVID-19; PHEIC; radiology management; WHO')\n",
      "\n",
      "\n",
      "('Index Keywords', nan)\n",
      "\n",
      "\n",
      "('Document Type', 'Article')\n",
      "\n",
      "\n",
      "('Publication Stage', 'Final')\n",
      "\n",
      "\n",
      "('Access Type', 'Open Access')\n",
      "\n",
      "\n"
     ]
    }
   ],
   "source": [
    "first_row = covid_scopus_df.iloc[0]\n",
    "\n",
    "for data in first_row.items():\n",
    "    print(data)\n",
    "    print('\\n')"
   ]
  },
  {
   "cell_type": "code",
   "execution_count": 4,
   "metadata": {},
   "outputs": [
    {
     "name": "stdout",
     "output_type": "stream",
     "text": [
      "The outbreak of 2019 novel coronavirus (2019-nCoV) pneumonia was reported in Wuhan, Hubei Province, China in December 2019 and has spread internationally. This article discusses how radiology departments can most effectively respond to this public health emergency. © 2020 The Association of University Radiologists\n",
      "\n",
      "\n",
      "Coronavirus disease is an emerging infection caused by a novel coronavirus that is moving rapidly. High resolution computed tomography (CT) allows objective evaluation of the lung lesions, thus enabling us to better understand the pathogenesis of the disease. With serial CT examinations, the occurrence, development, and prognosis of the disease can be better understood. The imaging can be sorted into four phases: early phase, progressive phase, severe phase, and dissipative phase. The CT appearance of each phase and temporal progression of the imaging findings are demonstrated. © 2020 The Association of University Radiologists\n",
      "\n",
      "\n",
      "Rationale and Objectives: To retrospectively analyze the chest imaging findings in patients with coronavirus disease 2019 (COVID-19) on thin-section CT. Materials and Methods: Fifty-three patients with confirmed COVID-19 infection underwent thin-section CT examination. Two chest radiologists independently evaluated the imaging in terms of distribution, ground-glass opacity (GGO), consolidation, air bronchogram, stripe, enlarged mediastinal lymph node, and pleural effusion. Results: Fourty-seven cases (88.7%) had findings of COVID-19 infection, and the other six (11.3%) were normal. Among the 47 cases, 78.7% involved both lungs, and 93.6% had peripheral infiltrates distributed along the subpleural area. All cases showed GGO, 59.6% of which were round and 40.4% patchy. Other imaging features included “crazy-paving pattern” (89.4%), consolidation (63.8%), and air bronchogram (76.6%). Air bronchograms were observed within GGO (61.7%) and consolidation (70.3%). Neither enlarged mediastinal lymph nodes nor pleural effusion were present. Thirty-three patients (62.3%) were followed an average interval of 6.2 ± 2.9 days. The lesions increased in 75.8% and resorbed in 24.2% of patients. Conclusion: COVID-19 showed the pulmonary lesions in patients infected with COVID-19 were predominantly distributed peripherally in the subpleural area. © 2020 The Association of University Radiologists\n",
      "\n",
      "\n",
      "Since the outbreak of the novel coronavirus disease COVID-19, caused by the SARS-CoV-2 virus, this disease has spread rapidly around the globe. Considering the potential threat of a pandemic, scientists and physicians have been racing to understand this ew virus and the pathophysiology of this disease to uncover possible treatment regimens and discover effective therapeutic agents and vaccines. To support the current research and development, CAS has produced a special report to provide an overview of published cientific information with an emphasis on patents in the CAS content collection. It highlights antiviral strategies involving small molecules and biologics targeting complex molecular interactions involved in coronavirus infection and replication. The drug-repurposing effort documented herein focuses primarily on agents known to be effective against other RNA viruses including SARS-CoV and MERS-CoV. The patent analysis of coronavirusrelated biologics includes therapeutic antibodies, cytokines, and nucleic acid-based therapies targeting virus gene expression as well as various types of vaccines. More than 500 patents disclose methodologies of these four biologics with the potential for treating and preventing coronavirus infections, which may be applicable to COVID-19. The information included in this report rovides a strong intellectual groundwork for the ongoing development of therapeutic agents and vaccines. © 2020 American Chemical Society.\n",
      "\n",
      "\n",
      "Background: Viral infectivity depends on interactions between components of the host cell plasma membrane and the virus envelope. Here we review strategies that could help stem the advance of the SARS-COV-2 epidemic. Methods and Results: We focus on the role of lipid structures, such as lipid rafts and cholesterol, involved in the process, mediated by endocytosis, by which viruses attach to and infect cells. Previous studies have shown that many naturally derived substances, such as cyclodextrin and sterols, could reduce the infectivity of many types of viruses, including the coronavirus family, through interference with lipid-dependent attachment to human host cells. Conclusions: Certain molecules prove able to reduce the infectivity of some coronaviruses, possibly by inhibiting viral lipid-dependent attachment to host cells. More research into these molecules and methods would be worthwhile as it could provide insights the mechanism of transmission of SARS-COV-2 and, into how they could become a basis for new antiviral strategies. © Mattioli 1885.\n",
      "\n",
      "\n"
     ]
    }
   ],
   "source": [
    "abstract_df = covid_scopus_df['Abstract']\n",
    "\n",
    "for item in abstract_df[:5]:\n",
    "    print(item)\n",
    "    print('\\n')"
   ]
  },
  {
   "cell_type": "code",
   "execution_count": 5,
   "metadata": {},
   "outputs": [
    {
     "name": "stdout",
     "output_type": "stream",
     "text": [
      "NON-FILTERED:  843\n",
      "FILTERED:  383 \n",
      "\n",
      "The outbreak of 2019 novel coronavirus (2019-nCoV) pneumonia was reported in Wuhan, Hubei Province, China in December 2019 and has spread internationally. This article discusses how radiology departments can most effectively respond to this public health emergency. © 2020 The Association of University Radiologists\n",
      "\n",
      "\n",
      "Coronavirus disease is an emerging infection caused by a novel coronavirus that is moving rapidly. High resolution computed tomography (CT) allows objective evaluation of the lung lesions, thus enabling us to better understand the pathogenesis of the disease. With serial CT examinations, the occurrence, development, and prognosis of the disease can be better understood. The imaging can be sorted into four phases: early phase, progressive phase, severe phase, and dissipative phase. The CT appearance of each phase and temporal progression of the imaging findings are demonstrated. © 2020 The Association of University Radiologists\n",
      "\n",
      "\n",
      "Rationale and Objectives: To retrospectively analyze the chest imaging findings in patients with coronavirus disease 2019 (COVID-19) on thin-section CT. Materials and Methods: Fifty-three patients with confirmed COVID-19 infection underwent thin-section CT examination. Two chest radiologists independently evaluated the imaging in terms of distribution, ground-glass opacity (GGO), consolidation, air bronchogram, stripe, enlarged mediastinal lymph node, and pleural effusion. Results: Fourty-seven cases (88.7%) had findings of COVID-19 infection, and the other six (11.3%) were normal. Among the 47 cases, 78.7% involved both lungs, and 93.6% had peripheral infiltrates distributed along the subpleural area. All cases showed GGO, 59.6% of which were round and 40.4% patchy. Other imaging features included “crazy-paving pattern” (89.4%), consolidation (63.8%), and air bronchogram (76.6%). Air bronchograms were observed within GGO (61.7%) and consolidation (70.3%). Neither enlarged mediastinal lymph nodes nor pleural effusion were present. Thirty-three patients (62.3%) were followed an average interval of 6.2 ± 2.9 days. The lesions increased in 75.8% and resorbed in 24.2% of patients. Conclusion: COVID-19 showed the pulmonary lesions in patients infected with COVID-19 were predominantly distributed peripherally in the subpleural area. © 2020 The Association of University Radiologists\n",
      "\n",
      "\n",
      "Since the outbreak of the novel coronavirus disease COVID-19, caused by the SARS-CoV-2 virus, this disease has spread rapidly around the globe. Considering the potential threat of a pandemic, scientists and physicians have been racing to understand this ew virus and the pathophysiology of this disease to uncover possible treatment regimens and discover effective therapeutic agents and vaccines. To support the current research and development, CAS has produced a special report to provide an overview of published cientific information with an emphasis on patents in the CAS content collection. It highlights antiviral strategies involving small molecules and biologics targeting complex molecular interactions involved in coronavirus infection and replication. The drug-repurposing effort documented herein focuses primarily on agents known to be effective against other RNA viruses including SARS-CoV and MERS-CoV. The patent analysis of coronavirusrelated biologics includes therapeutic antibodies, cytokines, and nucleic acid-based therapies targeting virus gene expression as well as various types of vaccines. More than 500 patents disclose methodologies of these four biologics with the potential for treating and preventing coronavirus infections, which may be applicable to COVID-19. The information included in this report rovides a strong intellectual groundwork for the ongoing development of therapeutic agents and vaccines. © 2020 American Chemical Society.\n",
      "\n",
      "\n",
      "Background: Viral infectivity depends on interactions between components of the host cell plasma membrane and the virus envelope. Here we review strategies that could help stem the advance of the SARS-COV-2 epidemic. Methods and Results: We focus on the role of lipid structures, such as lipid rafts and cholesterol, involved in the process, mediated by endocytosis, by which viruses attach to and infect cells. Previous studies have shown that many naturally derived substances, such as cyclodextrin and sterols, could reduce the infectivity of many types of viruses, including the coronavirus family, through interference with lipid-dependent attachment to human host cells. Conclusions: Certain molecules prove able to reduce the infectivity of some coronaviruses, possibly by inhibiting viral lipid-dependent attachment to host cells. More research into these molecules and methods would be worthwhile as it could provide insights the mechanism of transmission of SARS-COV-2 and, into how they could become a basis for new antiviral strategies. © Mattioli 1885.\n",
      "\n",
      "\n"
     ]
    }
   ],
   "source": [
    "abstract_ser = abstract_df[abstract_df != '[No abstract available]']\n",
    "print('NON-FILTERED: ',len(abstract_df))\n",
    "print('FILTERED: ', len(abstract_ser),'\\n')\n",
    "\n",
    "for item in abstract_ser[:5]:\n",
    "    print(item)\n",
    "    print('\\n')"
   ]
  },
  {
   "cell_type": "code",
   "execution_count": 29,
   "metadata": {},
   "outputs": [
    {
     "name": "stdout",
     "output_type": "stream",
     "text": [
      "[315, 634, 1398, 1474, 1065, 606, 1131, 2149, 1695, 443, 1419, 1129, 1228, 366, 576, 825, 1883, 1677, 1335, 1406, 863, 640, 1362, 972, 1558, 1227, 1499, 449, 2041, 1356, 1552, 1281, 386, 1887, 1979, 760, 1911, 1146, 796, 2296, 1961, 1428, 595, 768, 1605, 708, 331, 335, 450, 477, 502, 334, 336, 1622, 1654, 1589, 1584, 1434, 539, 283, 1183, 142, 602, 711, 1447, 1342, 1384, 1113, 1657, 730, 1017, 1646, 1296, 1737, 1648, 1096, 1631, 947, 1092, 2642, 531, 553, 521, 454, 546, 467, 1166, 556, 475, 525, 531, 1270, 467, 471, 517, 474, 573, 515, 442, 538, 538, 2461, 1276, 1311, 426, 2096, 1629, 2392, 666, 1848, 1200, 941, 701, 634, 2337, 1025, 1806, 1149, 976, 321, 389, 1795, 674, 761, 481, 1801, 1757, 342, 2326, 945, 1668, 1103, 1634, 2176, 2488, 1825, 325, 918, 543, 1473, 1647, 1553, 2761, 1840, 1838, 1745, 1534, 1396, 972, 1857, 1160, 1525, 1266, 476, 1283, 1320, 1342, 1503, 818, 30, 538, 2235, 3541, 2912, 3407, 1989, 984, 1387, 1190, 2010, 1318, 1241, 1044, 1057, 1426, 1289, 573, 968, 1388, 1916, 2488, 846, 1334, 1710, 1541, 2430, 1040, 1811, 2039, 763, 782, 1072, 559, 965, 875, 528, 882, 1003, 1086, 1242, 1170, 1662, 977, 1198, 1194, 1553, 528, 1410, 665, 1365, 1382, 750, 1688, 1644, 1047, 700, 904, 1735, 854, 1815, 1069, 693, 1493, 813, 980, 1433, 1690, 1432, 2660, 2030, 349, 1519, 355, 1041, 312, 1847, 265, 1573, 1651, 1190, 1950, 919, 947, 519, 1246, 497, 663, 966, 457, 534, 713, 667, 1807, 1882, 1306, 582, 927, 408, 1814, 1701, 748, 1012, 585, 968, 1429, 777, 1531, 2067, 845, 2197, 1978, 2724, 593, 2029, 549, 1326, 1490, 158, 210, 626, 1215, 747, 670, 935, 749, 1337, 1742, 717, 1432, 1333, 1250, 436, 1526, 1766, 1021, 1780, 872, 2685, 755, 1766, 979, 820, 1245, 1528, 2379, 342, 785, 8, 985, 248, 1601, 776, 864, 1888, 1705, 1913, 2385, 515, 3318, 2867, 2235, 2856, 3070, 1813, 1665, 2589, 734, 246, 2468, 734, 2985, 3079, 386, 2476, 412, 2500, 703, 1808, 1339, 1339, 1900, 1265, 573, 1888, 1455, 346, 948, 1237, 1410, 881, 1067, 2259, 1403, 1823, 1127, 319, 974, 993, 1053, 1384, 1342, 1604, 3971, 882, 677, 855, 777, 749, 865, 539, 693, 532, 742, 1797, 1611, 1066, 1455, 1475, 1564, 1622, 3428, 1207]\n"
     ]
    }
   ],
   "source": [
    "abstract_length_list = []\n",
    "\n",
    "# There is a NaN abstract in the list (Checked by manual analysis)\n",
    "abstract_ser = abstract_ser.dropna()\n",
    "\n",
    "for index, abstract in enumerate(abstract_ser):\n",
    "    \n",
    "    abstract_length_list.append(len(abstract))\n",
    "    \n",
    "    \n",
    "print(abstract_length_list)"
   ]
  },
  {
   "cell_type": "code",
   "execution_count": 30,
   "metadata": {},
   "outputs": [
    {
     "data": {
      "application/vnd.plotly.v1+json": {
       "config": {
        "plotlyServerURL": "https://plot.ly"
       },
       "data": [
        {
         "type": "histogram",
         "x": [
          315,
          634,
          1398,
          1474,
          1065,
          606,
          1131,
          2149,
          1695,
          443,
          1419,
          1129,
          1228,
          366,
          576,
          825,
          1883,
          1677,
          1335,
          1406,
          863,
          640,
          1362,
          972,
          1558,
          1227,
          1499,
          449,
          2041,
          1356,
          1552,
          1281,
          386,
          1887,
          1979,
          760,
          1911,
          1146,
          796,
          2296,
          1961,
          1428,
          595,
          768,
          1605,
          708,
          331,
          335,
          450,
          477,
          502,
          334,
          336,
          1622,
          1654,
          1589,
          1584,
          1434,
          539,
          283,
          1183,
          142,
          602,
          711,
          1447,
          1342,
          1384,
          1113,
          1657,
          730,
          1017,
          1646,
          1296,
          1737,
          1648,
          1096,
          1631,
          947,
          1092,
          2642,
          531,
          553,
          521,
          454,
          546,
          467,
          1166,
          556,
          475,
          525,
          531,
          1270,
          467,
          471,
          517,
          474,
          573,
          515,
          442,
          538,
          538,
          2461,
          1276,
          1311,
          426,
          2096,
          1629,
          2392,
          666,
          1848,
          1200,
          941,
          701,
          634,
          2337,
          1025,
          1806,
          1149,
          976,
          321,
          389,
          1795,
          674,
          761,
          481,
          1801,
          1757,
          342,
          2326,
          945,
          1668,
          1103,
          1634,
          2176,
          2488,
          1825,
          325,
          918,
          543,
          1473,
          1647,
          1553,
          2761,
          1840,
          1838,
          1745,
          1534,
          1396,
          972,
          1857,
          1160,
          1525,
          1266,
          476,
          1283,
          1320,
          1342,
          1503,
          818,
          30,
          538,
          2235,
          3541,
          2912,
          3407,
          1989,
          984,
          1387,
          1190,
          2010,
          1318,
          1241,
          1044,
          1057,
          1426,
          1289,
          573,
          968,
          1388,
          1916,
          2488,
          846,
          1334,
          1710,
          1541,
          2430,
          1040,
          1811,
          2039,
          763,
          782,
          1072,
          559,
          965,
          875,
          528,
          882,
          1003,
          1086,
          1242,
          1170,
          1662,
          977,
          1198,
          1194,
          1553,
          528,
          1410,
          665,
          1365,
          1382,
          750,
          1688,
          1644,
          1047,
          700,
          904,
          1735,
          854,
          1815,
          1069,
          693,
          1493,
          813,
          980,
          1433,
          1690,
          1432,
          2660,
          2030,
          349,
          1519,
          355,
          1041,
          312,
          1847,
          265,
          1573,
          1651,
          1190,
          1950,
          919,
          947,
          519,
          1246,
          497,
          663,
          966,
          457,
          534,
          713,
          667,
          1807,
          1882,
          1306,
          582,
          927,
          408,
          1814,
          1701,
          748,
          1012,
          585,
          968,
          1429,
          777,
          1531,
          2067,
          845,
          2197,
          1978,
          2724,
          593,
          2029,
          549,
          1326,
          1490,
          158,
          210,
          626,
          1215,
          747,
          670,
          935,
          749,
          1337,
          1742,
          717,
          1432,
          1333,
          1250,
          436,
          1526,
          1766,
          1021,
          1780,
          872,
          2685,
          755,
          1766,
          979,
          820,
          1245,
          1528,
          2379,
          342,
          785,
          8,
          985,
          248,
          1601,
          776,
          864,
          1888,
          1705,
          1913,
          2385,
          515,
          3318,
          2867,
          2235,
          2856,
          3070,
          1813,
          1665,
          2589,
          734,
          246,
          2468,
          734,
          2985,
          3079,
          386,
          2476,
          412,
          2500,
          703,
          1808,
          1339,
          1339,
          1900,
          1265,
          573,
          1888,
          1455,
          346,
          948,
          1237,
          1410,
          881,
          1067,
          2259,
          1403,
          1823,
          1127,
          319,
          974,
          993,
          1053,
          1384,
          1342,
          1604,
          3971,
          882,
          677,
          855,
          777,
          749,
          865,
          539,
          693,
          532,
          742,
          1797,
          1611,
          1066,
          1455,
          1475,
          1564,
          1622,
          3428,
          1207
         ]
        }
       ],
       "layout": {
        "template": {
         "data": {
          "bar": [
           {
            "error_x": {
             "color": "#2a3f5f"
            },
            "error_y": {
             "color": "#2a3f5f"
            },
            "marker": {
             "line": {
              "color": "#E5ECF6",
              "width": 0.5
             }
            },
            "type": "bar"
           }
          ],
          "barpolar": [
           {
            "marker": {
             "line": {
              "color": "#E5ECF6",
              "width": 0.5
             }
            },
            "type": "barpolar"
           }
          ],
          "carpet": [
           {
            "aaxis": {
             "endlinecolor": "#2a3f5f",
             "gridcolor": "white",
             "linecolor": "white",
             "minorgridcolor": "white",
             "startlinecolor": "#2a3f5f"
            },
            "baxis": {
             "endlinecolor": "#2a3f5f",
             "gridcolor": "white",
             "linecolor": "white",
             "minorgridcolor": "white",
             "startlinecolor": "#2a3f5f"
            },
            "type": "carpet"
           }
          ],
          "choropleth": [
           {
            "colorbar": {
             "outlinewidth": 0,
             "ticks": ""
            },
            "type": "choropleth"
           }
          ],
          "contour": [
           {
            "colorbar": {
             "outlinewidth": 0,
             "ticks": ""
            },
            "colorscale": [
             [
              0,
              "#0d0887"
             ],
             [
              0.1111111111111111,
              "#46039f"
             ],
             [
              0.2222222222222222,
              "#7201a8"
             ],
             [
              0.3333333333333333,
              "#9c179e"
             ],
             [
              0.4444444444444444,
              "#bd3786"
             ],
             [
              0.5555555555555556,
              "#d8576b"
             ],
             [
              0.6666666666666666,
              "#ed7953"
             ],
             [
              0.7777777777777778,
              "#fb9f3a"
             ],
             [
              0.8888888888888888,
              "#fdca26"
             ],
             [
              1,
              "#f0f921"
             ]
            ],
            "type": "contour"
           }
          ],
          "contourcarpet": [
           {
            "colorbar": {
             "outlinewidth": 0,
             "ticks": ""
            },
            "type": "contourcarpet"
           }
          ],
          "heatmap": [
           {
            "colorbar": {
             "outlinewidth": 0,
             "ticks": ""
            },
            "colorscale": [
             [
              0,
              "#0d0887"
             ],
             [
              0.1111111111111111,
              "#46039f"
             ],
             [
              0.2222222222222222,
              "#7201a8"
             ],
             [
              0.3333333333333333,
              "#9c179e"
             ],
             [
              0.4444444444444444,
              "#bd3786"
             ],
             [
              0.5555555555555556,
              "#d8576b"
             ],
             [
              0.6666666666666666,
              "#ed7953"
             ],
             [
              0.7777777777777778,
              "#fb9f3a"
             ],
             [
              0.8888888888888888,
              "#fdca26"
             ],
             [
              1,
              "#f0f921"
             ]
            ],
            "type": "heatmap"
           }
          ],
          "heatmapgl": [
           {
            "colorbar": {
             "outlinewidth": 0,
             "ticks": ""
            },
            "colorscale": [
             [
              0,
              "#0d0887"
             ],
             [
              0.1111111111111111,
              "#46039f"
             ],
             [
              0.2222222222222222,
              "#7201a8"
             ],
             [
              0.3333333333333333,
              "#9c179e"
             ],
             [
              0.4444444444444444,
              "#bd3786"
             ],
             [
              0.5555555555555556,
              "#d8576b"
             ],
             [
              0.6666666666666666,
              "#ed7953"
             ],
             [
              0.7777777777777778,
              "#fb9f3a"
             ],
             [
              0.8888888888888888,
              "#fdca26"
             ],
             [
              1,
              "#f0f921"
             ]
            ],
            "type": "heatmapgl"
           }
          ],
          "histogram": [
           {
            "marker": {
             "colorbar": {
              "outlinewidth": 0,
              "ticks": ""
             }
            },
            "type": "histogram"
           }
          ],
          "histogram2d": [
           {
            "colorbar": {
             "outlinewidth": 0,
             "ticks": ""
            },
            "colorscale": [
             [
              0,
              "#0d0887"
             ],
             [
              0.1111111111111111,
              "#46039f"
             ],
             [
              0.2222222222222222,
              "#7201a8"
             ],
             [
              0.3333333333333333,
              "#9c179e"
             ],
             [
              0.4444444444444444,
              "#bd3786"
             ],
             [
              0.5555555555555556,
              "#d8576b"
             ],
             [
              0.6666666666666666,
              "#ed7953"
             ],
             [
              0.7777777777777778,
              "#fb9f3a"
             ],
             [
              0.8888888888888888,
              "#fdca26"
             ],
             [
              1,
              "#f0f921"
             ]
            ],
            "type": "histogram2d"
           }
          ],
          "histogram2dcontour": [
           {
            "colorbar": {
             "outlinewidth": 0,
             "ticks": ""
            },
            "colorscale": [
             [
              0,
              "#0d0887"
             ],
             [
              0.1111111111111111,
              "#46039f"
             ],
             [
              0.2222222222222222,
              "#7201a8"
             ],
             [
              0.3333333333333333,
              "#9c179e"
             ],
             [
              0.4444444444444444,
              "#bd3786"
             ],
             [
              0.5555555555555556,
              "#d8576b"
             ],
             [
              0.6666666666666666,
              "#ed7953"
             ],
             [
              0.7777777777777778,
              "#fb9f3a"
             ],
             [
              0.8888888888888888,
              "#fdca26"
             ],
             [
              1,
              "#f0f921"
             ]
            ],
            "type": "histogram2dcontour"
           }
          ],
          "mesh3d": [
           {
            "colorbar": {
             "outlinewidth": 0,
             "ticks": ""
            },
            "type": "mesh3d"
           }
          ],
          "parcoords": [
           {
            "line": {
             "colorbar": {
              "outlinewidth": 0,
              "ticks": ""
             }
            },
            "type": "parcoords"
           }
          ],
          "pie": [
           {
            "automargin": true,
            "type": "pie"
           }
          ],
          "scatter": [
           {
            "marker": {
             "colorbar": {
              "outlinewidth": 0,
              "ticks": ""
             }
            },
            "type": "scatter"
           }
          ],
          "scatter3d": [
           {
            "line": {
             "colorbar": {
              "outlinewidth": 0,
              "ticks": ""
             }
            },
            "marker": {
             "colorbar": {
              "outlinewidth": 0,
              "ticks": ""
             }
            },
            "type": "scatter3d"
           }
          ],
          "scattercarpet": [
           {
            "marker": {
             "colorbar": {
              "outlinewidth": 0,
              "ticks": ""
             }
            },
            "type": "scattercarpet"
           }
          ],
          "scattergeo": [
           {
            "marker": {
             "colorbar": {
              "outlinewidth": 0,
              "ticks": ""
             }
            },
            "type": "scattergeo"
           }
          ],
          "scattergl": [
           {
            "marker": {
             "colorbar": {
              "outlinewidth": 0,
              "ticks": ""
             }
            },
            "type": "scattergl"
           }
          ],
          "scattermapbox": [
           {
            "marker": {
             "colorbar": {
              "outlinewidth": 0,
              "ticks": ""
             }
            },
            "type": "scattermapbox"
           }
          ],
          "scatterpolar": [
           {
            "marker": {
             "colorbar": {
              "outlinewidth": 0,
              "ticks": ""
             }
            },
            "type": "scatterpolar"
           }
          ],
          "scatterpolargl": [
           {
            "marker": {
             "colorbar": {
              "outlinewidth": 0,
              "ticks": ""
             }
            },
            "type": "scatterpolargl"
           }
          ],
          "scatterternary": [
           {
            "marker": {
             "colorbar": {
              "outlinewidth": 0,
              "ticks": ""
             }
            },
            "type": "scatterternary"
           }
          ],
          "surface": [
           {
            "colorbar": {
             "outlinewidth": 0,
             "ticks": ""
            },
            "colorscale": [
             [
              0,
              "#0d0887"
             ],
             [
              0.1111111111111111,
              "#46039f"
             ],
             [
              0.2222222222222222,
              "#7201a8"
             ],
             [
              0.3333333333333333,
              "#9c179e"
             ],
             [
              0.4444444444444444,
              "#bd3786"
             ],
             [
              0.5555555555555556,
              "#d8576b"
             ],
             [
              0.6666666666666666,
              "#ed7953"
             ],
             [
              0.7777777777777778,
              "#fb9f3a"
             ],
             [
              0.8888888888888888,
              "#fdca26"
             ],
             [
              1,
              "#f0f921"
             ]
            ],
            "type": "surface"
           }
          ],
          "table": [
           {
            "cells": {
             "fill": {
              "color": "#EBF0F8"
             },
             "line": {
              "color": "white"
             }
            },
            "header": {
             "fill": {
              "color": "#C8D4E3"
             },
             "line": {
              "color": "white"
             }
            },
            "type": "table"
           }
          ]
         },
         "layout": {
          "annotationdefaults": {
           "arrowcolor": "#2a3f5f",
           "arrowhead": 0,
           "arrowwidth": 1
          },
          "coloraxis": {
           "colorbar": {
            "outlinewidth": 0,
            "ticks": ""
           }
          },
          "colorscale": {
           "diverging": [
            [
             0,
             "#8e0152"
            ],
            [
             0.1,
             "#c51b7d"
            ],
            [
             0.2,
             "#de77ae"
            ],
            [
             0.3,
             "#f1b6da"
            ],
            [
             0.4,
             "#fde0ef"
            ],
            [
             0.5,
             "#f7f7f7"
            ],
            [
             0.6,
             "#e6f5d0"
            ],
            [
             0.7,
             "#b8e186"
            ],
            [
             0.8,
             "#7fbc41"
            ],
            [
             0.9,
             "#4d9221"
            ],
            [
             1,
             "#276419"
            ]
           ],
           "sequential": [
            [
             0,
             "#0d0887"
            ],
            [
             0.1111111111111111,
             "#46039f"
            ],
            [
             0.2222222222222222,
             "#7201a8"
            ],
            [
             0.3333333333333333,
             "#9c179e"
            ],
            [
             0.4444444444444444,
             "#bd3786"
            ],
            [
             0.5555555555555556,
             "#d8576b"
            ],
            [
             0.6666666666666666,
             "#ed7953"
            ],
            [
             0.7777777777777778,
             "#fb9f3a"
            ],
            [
             0.8888888888888888,
             "#fdca26"
            ],
            [
             1,
             "#f0f921"
            ]
           ],
           "sequentialminus": [
            [
             0,
             "#0d0887"
            ],
            [
             0.1111111111111111,
             "#46039f"
            ],
            [
             0.2222222222222222,
             "#7201a8"
            ],
            [
             0.3333333333333333,
             "#9c179e"
            ],
            [
             0.4444444444444444,
             "#bd3786"
            ],
            [
             0.5555555555555556,
             "#d8576b"
            ],
            [
             0.6666666666666666,
             "#ed7953"
            ],
            [
             0.7777777777777778,
             "#fb9f3a"
            ],
            [
             0.8888888888888888,
             "#fdca26"
            ],
            [
             1,
             "#f0f921"
            ]
           ]
          },
          "colorway": [
           "#636efa",
           "#EF553B",
           "#00cc96",
           "#ab63fa",
           "#FFA15A",
           "#19d3f3",
           "#FF6692",
           "#B6E880",
           "#FF97FF",
           "#FECB52"
          ],
          "font": {
           "color": "#2a3f5f"
          },
          "geo": {
           "bgcolor": "white",
           "lakecolor": "white",
           "landcolor": "#E5ECF6",
           "showlakes": true,
           "showland": true,
           "subunitcolor": "white"
          },
          "hoverlabel": {
           "align": "left"
          },
          "hovermode": "closest",
          "mapbox": {
           "style": "light"
          },
          "paper_bgcolor": "white",
          "plot_bgcolor": "#E5ECF6",
          "polar": {
           "angularaxis": {
            "gridcolor": "white",
            "linecolor": "white",
            "ticks": ""
           },
           "bgcolor": "#E5ECF6",
           "radialaxis": {
            "gridcolor": "white",
            "linecolor": "white",
            "ticks": ""
           }
          },
          "scene": {
           "xaxis": {
            "backgroundcolor": "#E5ECF6",
            "gridcolor": "white",
            "gridwidth": 2,
            "linecolor": "white",
            "showbackground": true,
            "ticks": "",
            "zerolinecolor": "white"
           },
           "yaxis": {
            "backgroundcolor": "#E5ECF6",
            "gridcolor": "white",
            "gridwidth": 2,
            "linecolor": "white",
            "showbackground": true,
            "ticks": "",
            "zerolinecolor": "white"
           },
           "zaxis": {
            "backgroundcolor": "#E5ECF6",
            "gridcolor": "white",
            "gridwidth": 2,
            "linecolor": "white",
            "showbackground": true,
            "ticks": "",
            "zerolinecolor": "white"
           }
          },
          "shapedefaults": {
           "line": {
            "color": "#2a3f5f"
           }
          },
          "ternary": {
           "aaxis": {
            "gridcolor": "white",
            "linecolor": "white",
            "ticks": ""
           },
           "baxis": {
            "gridcolor": "white",
            "linecolor": "white",
            "ticks": ""
           },
           "bgcolor": "#E5ECF6",
           "caxis": {
            "gridcolor": "white",
            "linecolor": "white",
            "ticks": ""
           }
          },
          "title": {
           "x": 0.05
          },
          "xaxis": {
           "automargin": true,
           "gridcolor": "white",
           "linecolor": "white",
           "ticks": "",
           "title": {
            "standoff": 15
           },
           "zerolinecolor": "white",
           "zerolinewidth": 2
          },
          "yaxis": {
           "automargin": true,
           "gridcolor": "white",
           "linecolor": "white",
           "ticks": "",
           "title": {
            "standoff": 15
           },
           "zerolinecolor": "white",
           "zerolinewidth": 2
          }
         }
        }
       }
      },
      "text/html": [
       "<div>\n",
       "        \n",
       "        \n",
       "            <div id=\"38e12fb4-b650-4b16-9181-3a0599357ae6\" class=\"plotly-graph-div\" style=\"height:525px; width:100%;\"></div>\n",
       "            <script type=\"text/javascript\">\n",
       "                require([\"plotly\"], function(Plotly) {\n",
       "                    window.PLOTLYENV=window.PLOTLYENV || {};\n",
       "                    \n",
       "                if (document.getElementById(\"38e12fb4-b650-4b16-9181-3a0599357ae6\")) {\n",
       "                    Plotly.newPlot(\n",
       "                        '38e12fb4-b650-4b16-9181-3a0599357ae6',\n",
       "                        [{\"type\": \"histogram\", \"x\": [315, 634, 1398, 1474, 1065, 606, 1131, 2149, 1695, 443, 1419, 1129, 1228, 366, 576, 825, 1883, 1677, 1335, 1406, 863, 640, 1362, 972, 1558, 1227, 1499, 449, 2041, 1356, 1552, 1281, 386, 1887, 1979, 760, 1911, 1146, 796, 2296, 1961, 1428, 595, 768, 1605, 708, 331, 335, 450, 477, 502, 334, 336, 1622, 1654, 1589, 1584, 1434, 539, 283, 1183, 142, 602, 711, 1447, 1342, 1384, 1113, 1657, 730, 1017, 1646, 1296, 1737, 1648, 1096, 1631, 947, 1092, 2642, 531, 553, 521, 454, 546, 467, 1166, 556, 475, 525, 531, 1270, 467, 471, 517, 474, 573, 515, 442, 538, 538, 2461, 1276, 1311, 426, 2096, 1629, 2392, 666, 1848, 1200, 941, 701, 634, 2337, 1025, 1806, 1149, 976, 321, 389, 1795, 674, 761, 481, 1801, 1757, 342, 2326, 945, 1668, 1103, 1634, 2176, 2488, 1825, 325, 918, 543, 1473, 1647, 1553, 2761, 1840, 1838, 1745, 1534, 1396, 972, 1857, 1160, 1525, 1266, 476, 1283, 1320, 1342, 1503, 818, 30, 538, 2235, 3541, 2912, 3407, 1989, 984, 1387, 1190, 2010, 1318, 1241, 1044, 1057, 1426, 1289, 573, 968, 1388, 1916, 2488, 846, 1334, 1710, 1541, 2430, 1040, 1811, 2039, 763, 782, 1072, 559, 965, 875, 528, 882, 1003, 1086, 1242, 1170, 1662, 977, 1198, 1194, 1553, 528, 1410, 665, 1365, 1382, 750, 1688, 1644, 1047, 700, 904, 1735, 854, 1815, 1069, 693, 1493, 813, 980, 1433, 1690, 1432, 2660, 2030, 349, 1519, 355, 1041, 312, 1847, 265, 1573, 1651, 1190, 1950, 919, 947, 519, 1246, 497, 663, 966, 457, 534, 713, 667, 1807, 1882, 1306, 582, 927, 408, 1814, 1701, 748, 1012, 585, 968, 1429, 777, 1531, 2067, 845, 2197, 1978, 2724, 593, 2029, 549, 1326, 1490, 158, 210, 626, 1215, 747, 670, 935, 749, 1337, 1742, 717, 1432, 1333, 1250, 436, 1526, 1766, 1021, 1780, 872, 2685, 755, 1766, 979, 820, 1245, 1528, 2379, 342, 785, 8, 985, 248, 1601, 776, 864, 1888, 1705, 1913, 2385, 515, 3318, 2867, 2235, 2856, 3070, 1813, 1665, 2589, 734, 246, 2468, 734, 2985, 3079, 386, 2476, 412, 2500, 703, 1808, 1339, 1339, 1900, 1265, 573, 1888, 1455, 346, 948, 1237, 1410, 881, 1067, 2259, 1403, 1823, 1127, 319, 974, 993, 1053, 1384, 1342, 1604, 3971, 882, 677, 855, 777, 749, 865, 539, 693, 532, 742, 1797, 1611, 1066, 1455, 1475, 1564, 1622, 3428, 1207]}],\n",
       "                        {\"template\": {\"data\": {\"bar\": [{\"error_x\": {\"color\": \"#2a3f5f\"}, \"error_y\": {\"color\": \"#2a3f5f\"}, \"marker\": {\"line\": {\"color\": \"#E5ECF6\", \"width\": 0.5}}, \"type\": \"bar\"}], \"barpolar\": [{\"marker\": {\"line\": {\"color\": \"#E5ECF6\", \"width\": 0.5}}, \"type\": \"barpolar\"}], \"carpet\": [{\"aaxis\": {\"endlinecolor\": \"#2a3f5f\", \"gridcolor\": \"white\", \"linecolor\": \"white\", \"minorgridcolor\": \"white\", \"startlinecolor\": \"#2a3f5f\"}, \"baxis\": {\"endlinecolor\": \"#2a3f5f\", \"gridcolor\": \"white\", \"linecolor\": \"white\", \"minorgridcolor\": \"white\", \"startlinecolor\": \"#2a3f5f\"}, \"type\": \"carpet\"}], \"choropleth\": [{\"colorbar\": {\"outlinewidth\": 0, \"ticks\": \"\"}, \"type\": \"choropleth\"}], \"contour\": [{\"colorbar\": {\"outlinewidth\": 0, \"ticks\": \"\"}, \"colorscale\": [[0.0, \"#0d0887\"], [0.1111111111111111, \"#46039f\"], [0.2222222222222222, \"#7201a8\"], [0.3333333333333333, \"#9c179e\"], [0.4444444444444444, \"#bd3786\"], [0.5555555555555556, \"#d8576b\"], [0.6666666666666666, \"#ed7953\"], [0.7777777777777778, \"#fb9f3a\"], [0.8888888888888888, \"#fdca26\"], [1.0, \"#f0f921\"]], \"type\": \"contour\"}], \"contourcarpet\": [{\"colorbar\": {\"outlinewidth\": 0, \"ticks\": \"\"}, \"type\": \"contourcarpet\"}], \"heatmap\": [{\"colorbar\": {\"outlinewidth\": 0, \"ticks\": \"\"}, \"colorscale\": [[0.0, \"#0d0887\"], [0.1111111111111111, \"#46039f\"], [0.2222222222222222, \"#7201a8\"], [0.3333333333333333, \"#9c179e\"], [0.4444444444444444, \"#bd3786\"], [0.5555555555555556, \"#d8576b\"], [0.6666666666666666, \"#ed7953\"], [0.7777777777777778, \"#fb9f3a\"], [0.8888888888888888, \"#fdca26\"], [1.0, \"#f0f921\"]], \"type\": \"heatmap\"}], \"heatmapgl\": [{\"colorbar\": {\"outlinewidth\": 0, \"ticks\": \"\"}, \"colorscale\": [[0.0, \"#0d0887\"], [0.1111111111111111, \"#46039f\"], [0.2222222222222222, \"#7201a8\"], [0.3333333333333333, \"#9c179e\"], [0.4444444444444444, \"#bd3786\"], [0.5555555555555556, \"#d8576b\"], [0.6666666666666666, \"#ed7953\"], [0.7777777777777778, \"#fb9f3a\"], [0.8888888888888888, \"#fdca26\"], [1.0, \"#f0f921\"]], \"type\": \"heatmapgl\"}], \"histogram\": [{\"marker\": {\"colorbar\": {\"outlinewidth\": 0, \"ticks\": \"\"}}, \"type\": \"histogram\"}], \"histogram2d\": [{\"colorbar\": {\"outlinewidth\": 0, \"ticks\": \"\"}, \"colorscale\": [[0.0, \"#0d0887\"], [0.1111111111111111, \"#46039f\"], [0.2222222222222222, \"#7201a8\"], [0.3333333333333333, \"#9c179e\"], [0.4444444444444444, \"#bd3786\"], [0.5555555555555556, \"#d8576b\"], [0.6666666666666666, \"#ed7953\"], [0.7777777777777778, \"#fb9f3a\"], [0.8888888888888888, \"#fdca26\"], [1.0, \"#f0f921\"]], \"type\": \"histogram2d\"}], \"histogram2dcontour\": [{\"colorbar\": {\"outlinewidth\": 0, \"ticks\": \"\"}, \"colorscale\": [[0.0, \"#0d0887\"], [0.1111111111111111, \"#46039f\"], [0.2222222222222222, \"#7201a8\"], [0.3333333333333333, \"#9c179e\"], [0.4444444444444444, \"#bd3786\"], [0.5555555555555556, \"#d8576b\"], [0.6666666666666666, \"#ed7953\"], [0.7777777777777778, \"#fb9f3a\"], [0.8888888888888888, \"#fdca26\"], [1.0, \"#f0f921\"]], \"type\": \"histogram2dcontour\"}], \"mesh3d\": [{\"colorbar\": {\"outlinewidth\": 0, \"ticks\": \"\"}, \"type\": \"mesh3d\"}], \"parcoords\": [{\"line\": {\"colorbar\": {\"outlinewidth\": 0, \"ticks\": \"\"}}, \"type\": \"parcoords\"}], \"pie\": [{\"automargin\": true, \"type\": \"pie\"}], \"scatter\": [{\"marker\": {\"colorbar\": {\"outlinewidth\": 0, \"ticks\": \"\"}}, \"type\": \"scatter\"}], \"scatter3d\": [{\"line\": {\"colorbar\": {\"outlinewidth\": 0, \"ticks\": \"\"}}, \"marker\": {\"colorbar\": {\"outlinewidth\": 0, \"ticks\": \"\"}}, \"type\": \"scatter3d\"}], \"scattercarpet\": [{\"marker\": {\"colorbar\": {\"outlinewidth\": 0, \"ticks\": \"\"}}, \"type\": \"scattercarpet\"}], \"scattergeo\": [{\"marker\": {\"colorbar\": {\"outlinewidth\": 0, \"ticks\": \"\"}}, \"type\": \"scattergeo\"}], \"scattergl\": [{\"marker\": {\"colorbar\": {\"outlinewidth\": 0, \"ticks\": \"\"}}, \"type\": \"scattergl\"}], \"scattermapbox\": [{\"marker\": {\"colorbar\": {\"outlinewidth\": 0, \"ticks\": \"\"}}, \"type\": \"scattermapbox\"}], \"scatterpolar\": [{\"marker\": {\"colorbar\": {\"outlinewidth\": 0, \"ticks\": \"\"}}, \"type\": \"scatterpolar\"}], \"scatterpolargl\": [{\"marker\": {\"colorbar\": {\"outlinewidth\": 0, \"ticks\": \"\"}}, \"type\": \"scatterpolargl\"}], \"scatterternary\": [{\"marker\": {\"colorbar\": {\"outlinewidth\": 0, \"ticks\": \"\"}}, \"type\": \"scatterternary\"}], \"surface\": [{\"colorbar\": {\"outlinewidth\": 0, \"ticks\": \"\"}, \"colorscale\": [[0.0, \"#0d0887\"], [0.1111111111111111, \"#46039f\"], [0.2222222222222222, \"#7201a8\"], [0.3333333333333333, \"#9c179e\"], [0.4444444444444444, \"#bd3786\"], [0.5555555555555556, \"#d8576b\"], [0.6666666666666666, \"#ed7953\"], [0.7777777777777778, \"#fb9f3a\"], [0.8888888888888888, \"#fdca26\"], [1.0, \"#f0f921\"]], \"type\": \"surface\"}], \"table\": [{\"cells\": {\"fill\": {\"color\": \"#EBF0F8\"}, \"line\": {\"color\": \"white\"}}, \"header\": {\"fill\": {\"color\": \"#C8D4E3\"}, \"line\": {\"color\": \"white\"}}, \"type\": \"table\"}]}, \"layout\": {\"annotationdefaults\": {\"arrowcolor\": \"#2a3f5f\", \"arrowhead\": 0, \"arrowwidth\": 1}, \"coloraxis\": {\"colorbar\": {\"outlinewidth\": 0, \"ticks\": \"\"}}, \"colorscale\": {\"diverging\": [[0, \"#8e0152\"], [0.1, \"#c51b7d\"], [0.2, \"#de77ae\"], [0.3, \"#f1b6da\"], [0.4, \"#fde0ef\"], [0.5, \"#f7f7f7\"], [0.6, \"#e6f5d0\"], [0.7, \"#b8e186\"], [0.8, \"#7fbc41\"], [0.9, \"#4d9221\"], [1, \"#276419\"]], \"sequential\": [[0.0, \"#0d0887\"], [0.1111111111111111, \"#46039f\"], [0.2222222222222222, \"#7201a8\"], [0.3333333333333333, \"#9c179e\"], [0.4444444444444444, \"#bd3786\"], [0.5555555555555556, \"#d8576b\"], [0.6666666666666666, \"#ed7953\"], [0.7777777777777778, \"#fb9f3a\"], [0.8888888888888888, \"#fdca26\"], [1.0, \"#f0f921\"]], \"sequentialminus\": [[0.0, \"#0d0887\"], [0.1111111111111111, \"#46039f\"], [0.2222222222222222, \"#7201a8\"], [0.3333333333333333, \"#9c179e\"], [0.4444444444444444, \"#bd3786\"], [0.5555555555555556, \"#d8576b\"], [0.6666666666666666, \"#ed7953\"], [0.7777777777777778, \"#fb9f3a\"], [0.8888888888888888, \"#fdca26\"], [1.0, \"#f0f921\"]]}, \"colorway\": [\"#636efa\", \"#EF553B\", \"#00cc96\", \"#ab63fa\", \"#FFA15A\", \"#19d3f3\", \"#FF6692\", \"#B6E880\", \"#FF97FF\", \"#FECB52\"], \"font\": {\"color\": \"#2a3f5f\"}, \"geo\": {\"bgcolor\": \"white\", \"lakecolor\": \"white\", \"landcolor\": \"#E5ECF6\", \"showlakes\": true, \"showland\": true, \"subunitcolor\": \"white\"}, \"hoverlabel\": {\"align\": \"left\"}, \"hovermode\": \"closest\", \"mapbox\": {\"style\": \"light\"}, \"paper_bgcolor\": \"white\", \"plot_bgcolor\": \"#E5ECF6\", \"polar\": {\"angularaxis\": {\"gridcolor\": \"white\", \"linecolor\": \"white\", \"ticks\": \"\"}, \"bgcolor\": \"#E5ECF6\", \"radialaxis\": {\"gridcolor\": \"white\", \"linecolor\": \"white\", \"ticks\": \"\"}}, \"scene\": {\"xaxis\": {\"backgroundcolor\": \"#E5ECF6\", \"gridcolor\": \"white\", \"gridwidth\": 2, \"linecolor\": \"white\", \"showbackground\": true, \"ticks\": \"\", \"zerolinecolor\": \"white\"}, \"yaxis\": {\"backgroundcolor\": \"#E5ECF6\", \"gridcolor\": \"white\", \"gridwidth\": 2, \"linecolor\": \"white\", \"showbackground\": true, \"ticks\": \"\", \"zerolinecolor\": \"white\"}, \"zaxis\": {\"backgroundcolor\": \"#E5ECF6\", \"gridcolor\": \"white\", \"gridwidth\": 2, \"linecolor\": \"white\", \"showbackground\": true, \"ticks\": \"\", \"zerolinecolor\": \"white\"}}, \"shapedefaults\": {\"line\": {\"color\": \"#2a3f5f\"}}, \"ternary\": {\"aaxis\": {\"gridcolor\": \"white\", \"linecolor\": \"white\", \"ticks\": \"\"}, \"baxis\": {\"gridcolor\": \"white\", \"linecolor\": \"white\", \"ticks\": \"\"}, \"bgcolor\": \"#E5ECF6\", \"caxis\": {\"gridcolor\": \"white\", \"linecolor\": \"white\", \"ticks\": \"\"}}, \"title\": {\"x\": 0.05}, \"xaxis\": {\"automargin\": true, \"gridcolor\": \"white\", \"linecolor\": \"white\", \"ticks\": \"\", \"title\": {\"standoff\": 15}, \"zerolinecolor\": \"white\", \"zerolinewidth\": 2}, \"yaxis\": {\"automargin\": true, \"gridcolor\": \"white\", \"linecolor\": \"white\", \"ticks\": \"\", \"title\": {\"standoff\": 15}, \"zerolinecolor\": \"white\", \"zerolinewidth\": 2}}}},\n",
       "                        {\"responsive\": true}\n",
       "                    ).then(function(){\n",
       "                            \n",
       "var gd = document.getElementById('38e12fb4-b650-4b16-9181-3a0599357ae6');\n",
       "var x = new MutationObserver(function (mutations, observer) {{\n",
       "        var display = window.getComputedStyle(gd).display;\n",
       "        if (!display || display === 'none') {{\n",
       "            console.log([gd, 'removed!']);\n",
       "            Plotly.purge(gd);\n",
       "            observer.disconnect();\n",
       "        }}\n",
       "}});\n",
       "\n",
       "// Listen for the removal of the full notebook cells\n",
       "var notebookContainer = gd.closest('#notebook-container');\n",
       "if (notebookContainer) {{\n",
       "    x.observe(notebookContainer, {childList: true});\n",
       "}}\n",
       "\n",
       "// Listen for the clearing of the current output cell\n",
       "var outputEl = gd.closest('.output');\n",
       "if (outputEl) {{\n",
       "    x.observe(outputEl, {childList: true});\n",
       "}}\n",
       "\n",
       "                        })\n",
       "                };\n",
       "                });\n",
       "            </script>\n",
       "        </div>"
      ]
     },
     "metadata": {},
     "output_type": "display_data"
    }
   ],
   "source": [
    "fig = go.Figure(data=[go.Histogram(x=abstract_length_list)])\n",
    "fig.show()"
   ]
  }
 ],
 "metadata": {
  "kernelspec": {
   "display_name": "Python 3",
   "language": "python",
   "name": "python3"
  },
  "language_info": {
   "codemirror_mode": {
    "name": "ipython",
    "version": 3
   },
   "file_extension": ".py",
   "mimetype": "text/x-python",
   "name": "python",
   "nbconvert_exporter": "python",
   "pygments_lexer": "ipython3",
   "version": "3.7.6"
  }
 },
 "nbformat": 4,
 "nbformat_minor": 4
}
