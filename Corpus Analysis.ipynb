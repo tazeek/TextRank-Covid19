{
 "cells": [
  {
   "cell_type": "code",
   "execution_count": 1,
   "metadata": {},
   "outputs": [],
   "source": [
    "import pandas as pd"
   ]
  },
  {
   "cell_type": "code",
   "execution_count": 17,
   "metadata": {},
   "outputs": [
    {
     "name": "stdout",
     "output_type": "stream",
     "text": [
      "(843, 13)\n",
      "['Authors', 'Title', 'Year', 'Source title', 'Cited by', 'Affiliations', 'Authors with affiliations', 'Abstract', 'Author Keywords', 'Index Keywords', 'Document Type', 'Publication Stage', 'Access Type']\n"
     ]
    }
   ],
   "source": [
    "FILE = 'folder/covid19_scopus.xlsx'\n",
    "\n",
    "covid_scopus_df = pd.read_excel(FILE)\n",
    "\n",
    "print(covid_scopus_df.shape)\n",
    "print(list(covid_scopus_df.columns))"
   ]
  },
  {
   "cell_type": "code",
   "execution_count": 23,
   "metadata": {},
   "outputs": [
    {
     "name": "stdout",
     "output_type": "stream",
     "text": [
      "('Authors', 'Zhang H.-W., Yu J., Xu H.-J., Lei Y., Pu Z.-H., Dai W.-C., Lin F., Wang Y.-L., Wu X.-L., Liu L.-H., Li M., Mo Y.-Q., Zhang H., Luo S.-P., Chen H., Lyu G.-W., Zhou Z.-G., Liu W.-M., Liu X.-L., Song H.-Y., Chen F.-Z., Zeng L., Zhong H., Guo T.-T., Hu Y.-Q., Yang X.-X., Liu P.-N., Li D.-F.')\n",
      "\n",
      "\n",
      "('Title', 'Corona Virus International Public Health Emergencies: Implications for Radiology Management')\n",
      "\n",
      "\n",
      "('Year', 2020)\n",
      "\n",
      "\n",
      "('Source title', 'Academic Radiology')\n",
      "\n",
      "\n",
      "('Cited by', nan)\n",
      "\n",
      "\n",
      "('Affiliations', \"Department of Radiology, The First Affiliated Hospital of Shenzhen University, Health Science Center, Shenzhen Second People's Hospital, 3002 SunGangXi Road, Shenzhen, 518035, China\")\n",
      "\n",
      "\n",
      "('Authors with affiliations', \"Zhang, H.-W., Department of Radiology, The First Affiliated Hospital of Shenzhen University, Health Science Center, Shenzhen Second People's Hospital, 3002 SunGangXi Road, Shenzhen, 518035, China; Yu, J., Department of Radiology, The First Affiliated Hospital of Shenzhen University, Health Science Center, Shenzhen Second People's Hospital, 3002 SunGangXi Road, Shenzhen, 518035, China; Xu, H.-J., Department of Radiology, The First Affiliated Hospital of Shenzhen University, Health Science Center, Shenzhen Second People's Hospital, 3002 SunGangXi Road, Shenzhen, 518035, China; Lei, Y., Department of Radiology, The First Affiliated Hospital of Shenzhen University, Health Science Center, Shenzhen Second People's Hospital, 3002 SunGangXi Road, Shenzhen, 518035, China; Pu, Z.-H., Department of Radiology, The First Affiliated Hospital of Shenzhen University, Health Science Center, Shenzhen Second People's Hospital, 3002 SunGangXi Road, Shenzhen, 518035, China; Dai, W.-C., Department of Radiology, The First Affiliated Hospital of Shenzhen University, Health Science Center, Shenzhen Second People's Hospital, 3002 SunGangXi Road, Shenzhen, 518035, China; Lin, F., Department of Radiology, The First Affiliated Hospital of Shenzhen University, Health Science Center, Shenzhen Second People's Hospital, 3002 SunGangXi Road, Shenzhen, 518035, China; Wang, Y.-L., Department of Radiology, The First Affiliated Hospital of Shenzhen University, Health Science Center, Shenzhen Second People's Hospital, 3002 SunGangXi Road, Shenzhen, 518035, China; Wu, X.-L., Department of Radiology, The First Affiliated Hospital of Shenzhen University, Health Science Center, Shenzhen Second People's Hospital, 3002 SunGangXi Road, Shenzhen, 518035, China; Liu, L.-H., Department of Radiology, The First Affiliated Hospital of Shenzhen University, Health Science Center, Shenzhen Second People's Hospital, 3002 SunGangXi Road, Shenzhen, 518035, China; Li, M., Department of Radiology, The First Affiliated Hospital of Shenzhen University, Health Science Center, Shenzhen Second People's Hospital, 3002 SunGangXi Road, Shenzhen, 518035, China; Mo, Y.-Q., Department of Radiology, The First Affiliated Hospital of Shenzhen University, Health Science Center, Shenzhen Second People's Hospital, 3002 SunGangXi Road, Shenzhen, 518035, China; Zhang, H., Department of Radiology, The First Affiliated Hospital of Shenzhen University, Health Science Center, Shenzhen Second People's Hospital, 3002 SunGangXi Road, Shenzhen, 518035, China; Luo, S.-P., Department of Radiology, The First Affiliated Hospital of Shenzhen University, Health Science Center, Shenzhen Second People's Hospital, 3002 SunGangXi Road, Shenzhen, 518035, China; Chen, H., Department of Radiology, The First Affiliated Hospital of Shenzhen University, Health Science Center, Shenzhen Second People's Hospital, 3002 SunGangXi Road, Shenzhen, 518035, China; Lyu, G.-W., Department of Radiology, The First Affiliated Hospital of Shenzhen University, Health Science Center, Shenzhen Second People's Hospital, 3002 SunGangXi Road, Shenzhen, 518035, China; Zhou, Z.-G., Department of Radiology, The First Affiliated Hospital of Shenzhen University, Health Science Center, Shenzhen Second People's Hospital, 3002 SunGangXi Road, Shenzhen, 518035, China; Liu, W.-M., Department of Radiology, The First Affiliated Hospital of Shenzhen University, Health Science Center, Shenzhen Second People's Hospital, 3002 SunGangXi Road, Shenzhen, 518035, China; Liu, X.-L., Department of Radiology, The First Affiliated Hospital of Shenzhen University, Health Science Center, Shenzhen Second People's Hospital, 3002 SunGangXi Road, Shenzhen, 518035, China; Song, H.-Y., Department of Radiology, The First Affiliated Hospital of Shenzhen University, Health Science Center, Shenzhen Second People's Hospital, 3002 SunGangXi Road, Shenzhen, 518035, China; Chen, F.-Z., Department of Radiology, The First Affiliated Hospital of Shenzhen University, Health Science Center, Shenzhen Second People's Hospital, 3002 SunGangXi Road, Shenzhen, 518035, China; Zeng, L., Department of Radiology, The First Affiliated Hospital of Shenzhen University, Health Science Center, Shenzhen Second People's Hospital, 3002 SunGangXi Road, Shenzhen, 518035, China; Zhong, H., Department of Radiology, The First Affiliated Hospital of Shenzhen University, Health Science Center, Shenzhen Second People's Hospital, 3002 SunGangXi Road, Shenzhen, 518035, China; Guo, T.-T., Department of Radiology, The First Affiliated Hospital of Shenzhen University, Health Science Center, Shenzhen Second People's Hospital, 3002 SunGangXi Road, Shenzhen, 518035, China; Hu, Y.-Q., Department of Radiology, The First Affiliated Hospital of Shenzhen University, Health Science Center, Shenzhen Second People's Hospital, 3002 SunGangXi Road, Shenzhen, 518035, China; Yang, X.-X., Department of Radiology, The First Affiliated Hospital of Shenzhen University, Health Science Center, Shenzhen Second People's Hospital, 3002 SunGangXi Road, Shenzhen, 518035, China; Liu, P.-N., Department of Radiology, The First Affiliated Hospital of Shenzhen University, Health Science Center, Shenzhen Second People's Hospital, 3002 SunGangXi Road, Shenzhen, 518035, China; Li, D.-F., Department of Radiology, The First Affiliated Hospital of Shenzhen University, Health Science Center, Shenzhen Second People's Hospital, 3002 SunGangXi Road, Shenzhen, 518035, China\")\n",
      "\n",
      "\n",
      "('Abstract', 'The outbreak of 2019 novel coronavirus (2019-nCoV) pneumonia was reported in Wuhan, Hubei Province, China in December 2019 and has spread internationally. This article discusses how radiology departments can most effectively respond to this public health emergency. © 2020 The Association of University Radiologists')\n",
      "\n",
      "\n",
      "('Author Keywords', '2019-nCoV; COVID-19; PHEIC; radiology management; WHO')\n",
      "\n",
      "\n",
      "('Index Keywords', nan)\n",
      "\n",
      "\n",
      "('Document Type', 'Article')\n",
      "\n",
      "\n",
      "('Publication Stage', 'Final')\n",
      "\n",
      "\n",
      "('Access Type', 'Open Access')\n",
      "\n",
      "\n"
     ]
    }
   ],
   "source": [
    "first_row = covid_scopus_df.iloc[0]\n",
    "\n",
    "for data in first_row.items():\n",
    "    print(data)\n",
    "    print('\\n')"
   ]
  },
  {
   "cell_type": "code",
   "execution_count": null,
   "metadata": {},
   "outputs": [],
   "source": []
  }
 ],
 "metadata": {
  "kernelspec": {
   "display_name": "Python 3",
   "language": "python",
   "name": "python3"
  },
  "language_info": {
   "codemirror_mode": {
    "name": "ipython",
    "version": 3
   },
   "file_extension": ".py",
   "mimetype": "text/x-python",
   "name": "python",
   "nbconvert_exporter": "python",
   "pygments_lexer": "ipython3",
   "version": "3.7.6"
  }
 },
 "nbformat": 4,
 "nbformat_minor": 4
}
